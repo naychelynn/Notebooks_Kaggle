{
  "nbformat": 4,
  "nbformat_minor": 0,
  "metadata": {
    "colab": {
      "provenance": [],
      "authorship_tag": "ABX9TyNh4kZX3D2aiCqpKKzwPNIS",
      "include_colab_link": true
    },
    "kernelspec": {
      "name": "python3",
      "display_name": "Python 3"
    },
    "language_info": {
      "name": "python"
    }
  },
  "cells": [
    {
      "cell_type": "markdown",
      "metadata": {
        "id": "view-in-github",
        "colab_type": "text"
      },
      "source": [
        "<a href=\"https://colab.research.google.com/github/naychelynn/Notebooks_Kaggle/blob/main/BIQA_ELM.ipynb\" target=\"_parent\"><img src=\"https://colab.research.google.com/assets/colab-badge.svg\" alt=\"Open In Colab\"/></a>"
      ]
    },
    {
      "cell_type": "code",
      "execution_count": null,
      "metadata": {
        "id": "NY_xKNuQhnRC"
      },
      "outputs": [],
      "source": [
        "from tqdm import tqdm\n",
        "import time\n",
        "import pandas as pd\n",
        "from tensorflow.keras.utils import load_img\n",
        "from skimage.restoration import estimate_sigma\n",
        "from skimage import img_as_float\n",
        "from scipy import fftpack\n",
        "import warnings\n",
        "warnings.filterwarnings(\"ignore\")"
      ]
    }
  ]
}